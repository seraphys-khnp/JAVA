{
  "nbformat": 4,
  "nbformat_minor": 0,
  "metadata": {
    "colab": {
      "name": "Untitled0.ipynb",
      "provenance": [],
      "collapsed_sections": [],
      "authorship_tag": "ABX9TyPl3eUyGIQb7cXgw2K3E5G2",
      "include_colab_link": true
    },
    "kernelspec": {
      "name": "python3",
      "display_name": "Python 3"
    }
  },
  "cells": [
    {
      "cell_type": "markdown",
      "metadata": {
        "id": "view-in-github",
        "colab_type": "text"
      },
      "source": [
        "<a href=\"https://colab.research.google.com/github/seraphys-khnp/JAVA/blob/master/Untitled0.ipynb\" target=\"_parent\"><img src=\"https://colab.research.google.com/assets/colab-badge.svg\" alt=\"Open In Colab\"/></a>"
      ]
    },
    {
      "cell_type": "markdown",
      "metadata": {
        "id": "CLJANAZJ-opf",
        "colab_type": "text"
      },
      "source": [
        "4가지 분야 기존 인공지능 제품 및 서비스\n",
        "=======================================\n",
        "\n",
        "## 1. 언어 (구글 번역)   \n",
        "https://translate.google.com/?hl=ko&tab=TT    \n",
        "* 신경망 기반 기계번역(Neural Machine Translation)\n",
        "* 머신러닝과 딥러닝을 활용하여 번역모델을 만들고\n",
        "* 해당 모델을 감독학습(교육)과 비감독 학습(자습)을 수행시켜\n",
        "* 번역 성능을 향상시킴\n",
        "* 단어와 어구단위가 아닌 문장단위로 이해한 후 번역을 진행\n",
        "* 문법이 다른 언어도 제대로 번역되고, 뜻이 여러개인 단어도 문장 흐름에 맞게 번역\n",
        "* 인공지능이 성능을 강화할수록 번역성능(정확도)이 계속 향상되고 있음\n",
        "\n",
        "\n",
        "## 2. 음성 (아마존 Alexa)\n",
        "https://ko.wikipedia.org/wiki/%EC%95%84%EB%A7%88%EC%A1%B4_%EC%95%8C%EB%A0%89%EC%82%AC    \n",
        "* 소리를 주파수별로 분석을 한 결과를 신경망이 가능성이 높은 스펠링으로 추측\n",
        "* 가능한 스펠링의 배열 중 가장 확률이 높은 값을 선택하여 텍스트(문장)로 변환\n",
        "* 문장을 의미를 가지는 문자열로 나누고 품사 할당\n",
        "* 스킬분류기에서 입력된 명령에 알맞는 스킬 결정\n",
        "* 의도분류기에서 스킬과 연결되는 의도 결정\n",
        "* 슬롯인지기에서 더 자세하게 어떤 내용을 해야하는지 결정\n",
        "* 스킬, 의도, 슬롯의 결정에 따라 관련기기를 동작\n",
        "\n",
        "\n",
        "## 3. 이미지 (스탠퍼드대 연구팀 CheXNeXt)   \n",
        "https://stanfordmlgroup.github.io/projects/chexnext/\n",
        "* 흉부 X선 이미지 보고 14가지 질환을 진단\n",
        "* 30,805명의 환자의 112,120개의 방사선 사진세트를 딥러닝 모델에 교육\n",
        "* 각 이미지는 해당이미지 보고서에서 레이블(정답)을 자동으로 추출\n",
        "* 1단계에서 14개의 병리가 존재할 확률을 예측하기 위해 네트워크 앙상블 훈련하여 훈련 및 튜닝 세트의 레이블을 재지정\n",
        "* 2단계에서 새로운 네트워크 앙상블이 재지정된 레이블이 붙은 훈련세트로 훈련\n",
        "* 방사선 사진에서 클래스 활성화 매핑(CAM)을 사용하여 분류에 가장 많이 기여하는 위치를 식별하는 히트맵 생성\n",
        "\n",
        "\n",
        "## 4. 자율주행 (테슬라 Autopilot)     \n",
        "https://www.tesla.com/autopilot    \n",
        "* 기존에는 환경에 대한 사전지도를 구현하고, 주행을 하면서 맵을 업데이트하여 자율주행의 정확도를 높이는 방식\n",
        "* 테슬라는 라이다(Lidar)와 맵없이 완전비전중심으로 처음 접하는 환경이더라도 주변을 인식하여 주행하는 방식\n",
        "* 카메라, 레이더, 초음파센서를 사용하여 외부 물체 데이터 수집\n",
        "* 수집된 데이터를 딥 뉴럴 네트워크로 구축된 Tesla Vision으로 처리\n",
        "* 오토 파일럿은 차량이 차선을 따라가도록 자동으로 조향, 가속, 제동\n",
        "* 아직 완전자율주행(무인주행가능)은 아니고, 운전자의 감독이 필요한 레벨4\n",
        "* 신경망 모델이 세계의 수많은 레어 케이스들을 학습할 수록 정확도 상승\n"
      ]
    },
    {
      "cell_type": "code",
      "metadata": {
        "id": "MZWHEXRWbY3A",
        "colab_type": "code",
        "colab": {}
      },
      "source": [
        "\n",
        "\n"
      ],
      "execution_count": 0,
      "outputs": []
    }
  ]
}